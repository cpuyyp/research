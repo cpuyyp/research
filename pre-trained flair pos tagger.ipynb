{
 "cells": [
  {
   "cell_type": "code",
   "execution_count": 43,
   "metadata": {},
   "outputs": [],
   "source": [
    "import pandas as pd\n",
    "import numpy as np\n",
    "import chardet\n",
    "import nltk\n",
    "from flair.data import Sentence\n",
    "from flair.models import SequenceTagger\n",
    "from sklearn.model_selection import train_test_split\n",
    "import re\n",
    "from tqdm import tqdm_notebook, tqdm"
   ]
  },
  {
   "cell_type": "markdown",
   "metadata": {},
   "source": [
    "**Reported tested on Ontonotes dataset with accuracy of 98.19%**\n",
    "\n",
    "https://github.com/flairNLP/flair/blob/master/resources/docs/TUTORIAL_2_TAGGING.md"
   ]
  },
  {
   "cell_type": "code",
   "execution_count": 21,
   "metadata": {},
   "outputs": [
    {
     "name": "stdout",
     "output_type": "stream",
     "text": [
      "2020-10-21 22:29:56,595 loading file /home/joey/.flair/models/en-pos-ontonotes-v0.5.pt\n"
     ]
    }
   ],
   "source": [
    "tagger = SequenceTagger.load('pos')"
   ]
  },
  {
   "cell_type": "code",
   "execution_count": 24,
   "metadata": {},
   "outputs": [],
   "source": [
    "treebank_tagged = list(nltk.corpus.treebank.tagged_sents())\n",
    "\n",
    "train_set,test_set =train_test_split(treebank_tagged,train_size=0.80,test_size=0.20,random_state = 101)\n",
    "train_tagged_words = [ tup for sent in train_set for tup in sent ]\n",
    "test_tagged_words = [ tup for sent in test_set for tup in sent ]\n",
    "test_words = [tup[0] for sent in test_set for tup in sent]\n",
    "test_tags = [tup[1] for sent in test_set for tup in sent]"
   ]
  },
  {
   "cell_type": "code",
   "execution_count": 39,
   "metadata": {},
   "outputs": [],
   "source": [
    "treebank_raw = list(nltk.corpus.treebank.sents())\n",
    "treebank_seq_tags = [ tup[1] for sent in treebank_tagged for tup in sent ]"
   ]
  },
  {
   "cell_type": "code",
   "execution_count": 32,
   "metadata": {},
   "outputs": [],
   "source": [
    "re_tag = re.compile(r'\\<(.*?)\\>')"
   ]
  },
  {
   "cell_type": "code",
   "execution_count": 44,
   "metadata": {},
   "outputs": [
    {
     "name": "stderr",
     "output_type": "stream",
     "text": [
      "<ipython-input-44-209b67c4c4e9>:2: TqdmDeprecationWarning: This function will be removed in tqdm==5.0.0\n",
      "Please use `tqdm.notebook.tqdm` instead of `tqdm.tqdm_notebook`\n",
      "  for sentence in tqdm_notebook(treebank_raw):\n"
     ]
    },
    {
     "data": {
      "application/vnd.jupyter.widget-view+json": {
       "model_id": "69d4b5309eb8408698e1a95bfc3f1cfa",
       "version_major": 2,
       "version_minor": 0
      },
      "text/plain": [
       "HBox(children=(FloatProgress(value=0.0, max=3914.0), HTML(value='')))"
      ]
     },
     "metadata": {},
     "output_type": "display_data"
    },
    {
     "name": "stdout",
     "output_type": "stream",
     "text": [
      "\n"
     ]
    }
   ],
   "source": [
    "treebank_seq_predict = []\n",
    "for sentence in tqdm_notebook(treebank_raw):\n",
    "#     print(' '.join(sentence))\n",
    "    sentence = Sentence(' '.join(sentence))    \n",
    "    tagger.predict(sentence)\n",
    "    tagged_sentence = sentence.to_tagged_string()\n",
    "#     print(tagged_sentence)\n",
    "    treebank_seq_predict = treebank_seq_predict + re_tag.findall(tagged_sentence)\n"
   ]
  },
  {
   "cell_type": "code",
   "execution_count": 57,
   "metadata": {
    "scrolled": true
   },
   "outputs": [
    {
     "name": "stdout",
     "output_type": "stream",
     "text": [
      "Accuracy: 5.93786006595415\n"
     ]
    }
   ],
   "source": [
    "correct_idx = [i for i, j in zip(treebank_seq_predict, treebank_seq_tags) if i == j] \n",
    " \n",
    "accuracy = len(correct_idx)/len(treebank_seq_tags)\n",
    "print('Accuracy:',accuracy*100)"
   ]
  },
  {
   "cell_type": "markdown",
   "metadata": {},
   "source": [
    "**Tagset is larger than it was used in Treebank. No wander the accuracy is low.**"
   ]
  },
  {
   "cell_type": "code",
   "execution_count": 56,
   "metadata": {},
   "outputs": [
    {
     "data": {
      "text/plain": [
       "['<unk>',\n",
       " 'O',\n",
       " 'UH',\n",
       " ',',\n",
       " 'VBD',\n",
       " 'PRP',\n",
       " 'VB',\n",
       " 'PRP$',\n",
       " 'NN',\n",
       " 'RB',\n",
       " '.',\n",
       " 'DT',\n",
       " 'JJ',\n",
       " 'VBP',\n",
       " 'VBG',\n",
       " 'IN',\n",
       " 'CD',\n",
       " 'NNS',\n",
       " 'NNP',\n",
       " 'WRB',\n",
       " 'VBZ',\n",
       " 'WDT',\n",
       " 'CC',\n",
       " 'TO',\n",
       " 'MD',\n",
       " 'VBN',\n",
       " 'WP',\n",
       " ':',\n",
       " 'RP',\n",
       " 'EX',\n",
       " 'JJR',\n",
       " 'FW',\n",
       " 'XX',\n",
       " 'HYPH',\n",
       " 'POS',\n",
       " 'RBR',\n",
       " 'JJS',\n",
       " 'PDT',\n",
       " 'NNPS',\n",
       " 'RBS',\n",
       " 'AFX',\n",
       " 'WP$',\n",
       " '-LRB-',\n",
       " '-RRB-',\n",
       " '``',\n",
       " \"''\",\n",
       " 'LS',\n",
       " '$',\n",
       " 'SYM',\n",
       " 'ADD',\n",
       " 'NFP',\n",
       " '<START>',\n",
       " '<STOP>']"
      ]
     },
     "execution_count": 56,
     "metadata": {},
     "output_type": "execute_result"
    }
   ],
   "source": [
    "tagger.tag_dictionary.get_items()"
   ]
  },
  {
   "cell_type": "code",
   "execution_count": 62,
   "metadata": {},
   "outputs": [
    {
     "data": {
      "text/plain": [
       "0.06592"
      ]
     },
     "execution_count": 62,
     "metadata": {},
     "output_type": "execute_result"
    }
   ],
   "source": [
    "# some words in the treebank data is labeled as -none-\n",
    "6592/100000"
   ]
  },
  {
   "cell_type": "code",
   "execution_count": null,
   "metadata": {},
   "outputs": [],
   "source": []
  },
  {
   "cell_type": "code",
   "execution_count": null,
   "metadata": {},
   "outputs": [],
   "source": []
  },
  {
   "cell_type": "code",
   "execution_count": 15,
   "metadata": {},
   "outputs": [],
   "source": []
  },
  {
   "cell_type": "code",
   "execution_count": null,
   "metadata": {},
   "outputs": [],
   "source": []
  }
 ],
 "metadata": {
  "kernelspec": {
   "display_name": "Python 3",
   "language": "python",
   "name": "python3"
  },
  "language_info": {
   "codemirror_mode": {
    "name": "ipython",
    "version": 3
   },
   "file_extension": ".py",
   "mimetype": "text/x-python",
   "name": "python",
   "nbconvert_exporter": "python",
   "pygments_lexer": "ipython3",
   "version": "3.8.5"
  }
 },
 "nbformat": 4,
 "nbformat_minor": 4
}
